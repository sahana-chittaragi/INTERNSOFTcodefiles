{
  "nbformat": 4,
  "nbformat_minor": 0,
  "metadata": {
    "colab": {
      "name": "day4code.file",
      "provenance": [],
      "collapsed_sections": []
    },
    "kernelspec": {
      "name": "python3",
      "display_name": "Python 3"
    }
  },
  "cells": [
    {
      "cell_type": "code",
      "metadata": {
        "id": "X7AWVtnkwH4u",
        "outputId": "55b40a5f-4bf0-4a87-f7b3-d13d9d514cb8",
        "colab": {
          "base_uri": "https://localhost:8080/"
        }
      },
      "source": [
        "class person:\n",
        "  pass\n",
        "john_doe=person()\n",
        "john_doe.name = \"alec\"\n",
        "john_doe.surname = \"baldwin\"\n",
        "john_doe.year_of_birth = 1958\n",
        "\n",
        "print(john_doe)\n",
        "print(\"%s %s was born in %d.\"%(john_doe.name,john_doe.surname,john_doe.year_of_birth))"
      ],
      "execution_count": null,
      "outputs": [
        {
          "output_type": "stream",
          "text": [
            "<__main__.person object at 0x7f87f8c28518>\n",
            "alec baldwin was born in 1958.\n"
          ],
          "name": "stdout"
        }
      ]
    },
    {
      "cell_type": "code",
      "metadata": {
        "id": "D_ax3tWYy65k"
      },
      "source": [
        "class person:\n",
        "  def __init__(self,name,surname,year_of_birth):\n",
        "    self.name = name\n",
        "    self.surname = surname\n",
        "    self.year_of_birth = year_of_birth"
      ],
      "execution_count": null,
      "outputs": []
    },
    {
      "cell_type": "code",
      "metadata": {
        "id": "J8CxEeupztaX",
        "outputId": "b0176c27-7102-443c-85a5-77504cf3577f",
        "colab": {
          "base_uri": "https://localhost:8080/"
        }
      },
      "source": [
        " alec = person(\"Alec\", \"baldwin\", 1958)\n",
        "print(alec)\n",
        "print(\"%s %s was born in %d\" % (alec.name,alec.surname,alec.year_of_birth ))"
      ],
      "execution_count": null,
      "outputs": [
        {
          "output_type": "stream",
          "text": [
            "<__main__.person object at 0x7f87f0e7e908>\n",
            "Alec baldwin was born in 1958\n"
          ],
          "name": "stdout"
        }
      ]
    },
    {
      "cell_type": "code",
      "metadata": {
        "id": "U7zfH9ufA1Aj",
        "outputId": "20663893-9815-46b1-b95f-ff74598ec473",
        "colab": {
          "base_uri": "https://localhost:8080/"
        }
      },
      "source": [
        "class student(person):\n",
        "  def __init__(self,student_id, *args, **kwargs):\n",
        "     super(student,self).__init__(*args, **kwargs)\n",
        "     self._student_id = student_id\n",
        "\n",
        "charlie = student(1, 'charlie', 'brown', 2006)\n",
        "print(charlie)\n",
        "print(type(charlie))\n",
        "print(isinstance(charlie, person))\n",
        "print(isinstance(charlie, object))"
      ],
      "execution_count": null,
      "outputs": [
        {
          "output_type": "stream",
          "text": [
            "<__main__.student object at 0x7f87f0e58048>\n",
            "<class '__main__.student'>\n",
            "True\n",
            "True\n"
          ],
          "name": "stdout"
        }
      ]
    }
  ]
}