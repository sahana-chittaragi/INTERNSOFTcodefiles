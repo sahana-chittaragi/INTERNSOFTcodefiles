{
  "nbformat": 4,
  "nbformat_minor": 0,
  "metadata": {
    "colab": {
      "name": "day5code.file.",
      "provenance": [],
      "collapsed_sections": []
    },
    "kernelspec": {
      "name": "python3",
      "display_name": "Python 3"
    }
  },
  "cells": [
    {
      "cell_type": "code",
      "metadata": {
        "id": "RNnHRSrYBv0C"
      },
      "source": [
        "import math"
      ],
      "execution_count": null,
      "outputs": []
    },
    {
      "cell_type": "code",
      "metadata": {
        "id": "jc_IHgHxCLZ0",
        "outputId": "538708dd-eea7-423f-b1a9-9ec170c1173c",
        "colab": {
          "base_uri": "https://localhost:8080/"
        }
      },
      "source": [
        "math.ceil(2.4)"
      ],
      "execution_count": null,
      "outputs": [
        {
          "output_type": "execute_result",
          "data": {
            "text/plain": [
              "3"
            ]
          },
          "metadata": {
            "tags": []
          },
          "execution_count": 3
        }
      ]
    },
    {
      "cell_type": "code",
      "metadata": {
        "id": "sddm7b8_CXYf",
        "outputId": "5b5ff2ec-01ab-4e4b-e523-f0551995984f",
        "colab": {
          "base_uri": "https://localhost:8080/"
        }
      },
      "source": [
        "print(dir(math))"
      ],
      "execution_count": null,
      "outputs": [
        {
          "output_type": "stream",
          "text": [
            "['__doc__', '__loader__', '__name__', '__package__', '__spec__', 'acos', 'acosh', 'asin', 'asinh', 'atan', 'atan2', 'atanh', 'ceil', 'copysign', 'cos', 'cosh', 'degrees', 'e', 'erf', 'erfc', 'exp', 'expm1', 'fabs', 'factorial', 'floor', 'fmod', 'frexp', 'fsum', 'gamma', 'gcd', 'hypot', 'inf', 'isclose', 'isfinite', 'isinf', 'isnan', 'ldexp', 'lgamma', 'log', 'log10', 'log1p', 'log2', 'modf', 'nan', 'pi', 'pow', 'radians', 'sin', 'sinh', 'sqrt', 'tan', 'tanh', 'tau', 'trunc']\n"
          ],
          "name": "stdout"
        }
      ]
    },
    {
      "cell_type": "code",
      "metadata": {
        "id": "x_iR6RhGCrSp",
        "outputId": "15bab15f-7ec6-49dc-fea4-e64e0031f866",
        "colab": {
          "base_uri": "https://localhost:8080/"
        }
      },
      "source": [
        "help(math.ceil)"
      ],
      "execution_count": null,
      "outputs": [
        {
          "output_type": "stream",
          "text": [
            "Help on built-in function ceil in module math:\n",
            "\n",
            "ceil(...)\n",
            "    ceil(x)\n",
            "    \n",
            "    Return the ceiling of x as an Integral.\n",
            "    This is the smallest integer >= x.\n",
            "\n"
          ],
          "name": "stdout"
        }
      ]
    },
    {
      "cell_type": "code",
      "metadata": {
        "id": "OBF4AGlxC-U_",
        "outputId": "65134612-4338-4623-d37b-133f55220a3e",
        "colab": {
          "base_uri": "https://localhost:8080/",
          "height": 296
        }
      },
      "source": [
        "import foo.bar"
      ],
      "execution_count": null,
      "outputs": [
        {
          "output_type": "error",
          "ename": "ModuleNotFoundError",
          "evalue": "ignored",
          "traceback": [
            "\u001b[0;31m---------------------------------------------------------------------------\u001b[0m",
            "\u001b[0;31mModuleNotFoundError\u001b[0m                       Traceback (most recent call last)",
            "\u001b[0;32m<ipython-input-7-55da487b42c6>\u001b[0m in \u001b[0;36m<module>\u001b[0;34m()\u001b[0m\n\u001b[0;32m----> 1\u001b[0;31m \u001b[0;32mimport\u001b[0m \u001b[0mfoo\u001b[0m\u001b[0;34m.\u001b[0m\u001b[0mbar\u001b[0m\u001b[0;34m\u001b[0m\u001b[0;34m\u001b[0m\u001b[0m\n\u001b[0m",
            "\u001b[0;31mModuleNotFoundError\u001b[0m: No module named 'foo'",
            "",
            "\u001b[0;31m---------------------------------------------------------------------------\u001b[0;32m\nNOTE: If your import is failing due to a missing package, you can\nmanually install dependencies using either !pip or !apt.\n\nTo view examples of installing some common dependencies, click the\n\"Open Examples\" button below.\n\u001b[0;31m---------------------------------------------------------------------------\u001b[0m\n"
          ]
        }
      ]
    },
    {
      "cell_type": "code",
      "metadata": {
        "id": "pQ_YbmJEDQXT",
        "outputId": "fc3073fd-866a-45f8-cfca-e10e10710152",
        "colab": {
          "base_uri": "https://localhost:8080/",
          "height": 296
        }
      },
      "source": [
        "from foo import bar"
      ],
      "execution_count": null,
      "outputs": [
        {
          "output_type": "error",
          "ename": "ModuleNotFoundError",
          "evalue": "ignored",
          "traceback": [
            "\u001b[0;31m---------------------------------------------------------------------------\u001b[0m",
            "\u001b[0;31mModuleNotFoundError\u001b[0m                       Traceback (most recent call last)",
            "\u001b[0;32m<ipython-input-8-17c8219278ab>\u001b[0m in \u001b[0;36m<module>\u001b[0;34m()\u001b[0m\n\u001b[0;32m----> 1\u001b[0;31m \u001b[0;32mfrom\u001b[0m \u001b[0mfoo\u001b[0m \u001b[0;32mimport\u001b[0m \u001b[0mbar\u001b[0m\u001b[0;34m\u001b[0m\u001b[0;34m\u001b[0m\u001b[0m\n\u001b[0m",
            "\u001b[0;31mModuleNotFoundError\u001b[0m: No module named 'foo'",
            "",
            "\u001b[0;31m---------------------------------------------------------------------------\u001b[0;32m\nNOTE: If your import is failing due to a missing package, you can\nmanually install dependencies using either !pip or !apt.\n\nTo view examples of installing some common dependencies, click the\n\"Open Examples\" button below.\n\u001b[0;31m---------------------------------------------------------------------------\u001b[0m\n"
          ]
        }
      ]
    },
    {
      "cell_type": "code",
      "metadata": {
        "id": "mg-StFTQDkUU",
        "outputId": "406d8047-1eab-4d4f-99ae-4bfc89eb4ed2",
        "colab": {
          "base_uri": "https://localhost:8080/",
          "height": 128
        }
      },
      "source": [
        "__init__.py:\n",
        "__all__ = [\"bar\"]"
      ],
      "execution_count": null,
      "outputs": [
        {
          "output_type": "error",
          "ename": "SyntaxError",
          "evalue": "ignored",
          "traceback": [
            "\u001b[0;36m  File \u001b[0;32m\"<ipython-input-9-3d7430ffacf8>\"\u001b[0;36m, line \u001b[0;32m1\u001b[0m\n\u001b[0;31m    __init__.py:\u001b[0m\n\u001b[0m                ^\u001b[0m\n\u001b[0;31mSyntaxError\u001b[0m\u001b[0;31m:\u001b[0m invalid syntax\n"
          ]
        }
      ]
    },
    {
      "cell_type": "code",
      "metadata": {
        "id": "m7oFLneED377",
        "outputId": "b90da189-c3c5-405e-ef02-1068354dcd64",
        "colab": {
          "base_uri": "https://localhost:8080/",
          "height": 128
        }
      },
      "source": [
        "print('Hello)"
      ],
      "execution_count": null,
      "outputs": [
        {
          "output_type": "error",
          "ename": "SyntaxError",
          "evalue": "ignored",
          "traceback": [
            "\u001b[0;36m  File \u001b[0;32m\"<ipython-input-11-db8c9988558c>\"\u001b[0;36m, line \u001b[0;32m1\u001b[0m\n\u001b[0;31m    print('Hello)\u001b[0m\n\u001b[0m                 ^\u001b[0m\n\u001b[0;31mSyntaxError\u001b[0m\u001b[0;31m:\u001b[0m EOL while scanning string literal\n"
          ]
        }
      ]
    },
    {
      "cell_type": "code",
      "metadata": {
        "id": "mhp1Dh6rEIAg",
        "outputId": "d19cb8ac-e436-4ccc-d9b0-a29eb2f45689",
        "colab": {
          "base_uri": "https://localhost:8080/"
        }
      },
      "source": [
        "print('Hello')"
      ],
      "execution_count": null,
      "outputs": [
        {
          "output_type": "stream",
          "text": [
            "Hello\n"
          ],
          "name": "stdout"
        }
      ]
    },
    {
      "cell_type": "code",
      "metadata": {
        "id": "RMKwEGpJENvu",
        "outputId": "868f1f0f-f8a9-4ce6-c889-f2f80af6ea20",
        "colab": {
          "base_uri": "https://localhost:8080/"
        }
      },
      "source": [
        "try:\n",
        "    f = open('testfile','w')\n",
        "    f.write('Test write this')\n",
        "except IOError:\n",
        "  print(\"error: Could not find file or read data\")\n",
        "else:\n",
        "  print(\"Content written successfully\")\n",
        "  f.close()"
      ],
      "execution_count": null,
      "outputs": [
        {
          "output_type": "stream",
          "text": [
            "Content written successfully\n"
          ],
          "name": "stdout"
        }
      ]
    },
    {
      "cell_type": "code",
      "metadata": {
        "id": "vyHjVqYrEoVT",
        "outputId": "eda9cf37-8f47-4248-e690-e7067113cabf",
        "colab": {
          "base_uri": "https://localhost:8080/"
        }
      },
      "source": [
        "try:\n",
        "    f = open('testfile','r')\n",
        "    f.write('Test write this')\n",
        "except IOError:\n",
        "  print(\"error:Could not find or read data\")\n",
        "else:\n",
        "  print(\"Content written successfully\")\n",
        "  f.close()"
      ],
      "execution_count": null,
      "outputs": [
        {
          "output_type": "stream",
          "text": [
            "error:Could not find or read data\n"
          ],
          "name": "stdout"
        }
      ]
    },
    {
      "cell_type": "code",
      "metadata": {
        "id": "jWv2X8izJVBN",
        "outputId": "598f2fdb-d962-49a6-c948-f51816dbdbf8",
        "colab": {
          "base_uri": "https://localhost:8080/"
        }
      },
      "source": [
        "try:\n",
        "  f = open(\"testfile\",\"w\")\n",
        "  f.write(\"Test write statement\")\n",
        "finally:\n",
        "  print(\"always execute finally code blocks\")"
      ],
      "execution_count": null,
      "outputs": [
        {
          "output_type": "stream",
          "text": [
            "always execute finally code blocks\n"
          ],
          "name": "stdout"
        }
      ]
    },
    {
      "cell_type": "code",
      "metadata": {
        "id": "RxRz2KgsK4J6"
      },
      "source": [
        "def askint():\n",
        "        try:\n",
        "          val = int(input(\"please enter an integer:\"))\n",
        "        except:\n",
        "          print(\"Looks like you did not enter an integer!\")\n",
        "\n",
        "        finally:\n",
        "          print(\"finally, i executed!\")\n",
        "        print(val)"
      ],
      "execution_count": null,
      "outputs": []
    },
    {
      "cell_type": "code",
      "metadata": {
        "id": "c_AjVX_iL2ch",
        "outputId": "0a1f3f56-14fe-4363-8609-bfd4677150d2",
        "colab": {
          "base_uri": "https://localhost:8080/"
        }
      },
      "source": [
        "askint()"
      ],
      "execution_count": null,
      "outputs": [
        {
          "output_type": "stream",
          "text": [
            "please enter an integer:123\n",
            "finally, i executed!\n",
            "123\n"
          ],
          "name": "stdout"
        }
      ]
    },
    {
      "cell_type": "code",
      "metadata": {
        "id": "ztuhf-UDMXCM",
        "outputId": "837fe853-c078-4361-9d60-ff8b37c57c73",
        "colab": {
          "base_uri": "https://localhost:8080/",
          "height": 313
        }
      },
      "source": [
        "\n",
        "askint()"
      ],
      "execution_count": null,
      "outputs": [
        {
          "output_type": "stream",
          "text": [
            "please enter an integer:abc\n",
            "Looks like you did not enter an integer!\n",
            "finally, i executed!\n"
          ],
          "name": "stdout"
        },
        {
          "output_type": "error",
          "ename": "UnboundLocalError",
          "evalue": "ignored",
          "traceback": [
            "\u001b[0;31m---------------------------------------------------------------------------\u001b[0m",
            "\u001b[0;31mUnboundLocalError\u001b[0m                         Traceback (most recent call last)",
            "\u001b[0;32m<ipython-input-29-87c44a15ed02>\u001b[0m in \u001b[0;36m<module>\u001b[0;34m()\u001b[0m\n\u001b[1;32m      1\u001b[0m \u001b[0;34m\u001b[0m\u001b[0m\n\u001b[0;32m----> 2\u001b[0;31m \u001b[0maskint\u001b[0m\u001b[0;34m(\u001b[0m\u001b[0;34m)\u001b[0m\u001b[0;34m\u001b[0m\u001b[0;34m\u001b[0m\u001b[0m\n\u001b[0m",
            "\u001b[0;32m<ipython-input-19-4f0f7d7a08ab>\u001b[0m in \u001b[0;36maskint\u001b[0;34m()\u001b[0m\n\u001b[1;32m      7\u001b[0m         \u001b[0;32mfinally\u001b[0m\u001b[0;34m:\u001b[0m\u001b[0;34m\u001b[0m\u001b[0;34m\u001b[0m\u001b[0m\n\u001b[1;32m      8\u001b[0m           \u001b[0mprint\u001b[0m\u001b[0;34m(\u001b[0m\u001b[0;34m\"finally, i executed!\"\u001b[0m\u001b[0;34m)\u001b[0m\u001b[0;34m\u001b[0m\u001b[0;34m\u001b[0m\u001b[0m\n\u001b[0;32m----> 9\u001b[0;31m         \u001b[0mprint\u001b[0m\u001b[0;34m(\u001b[0m\u001b[0mval\u001b[0m\u001b[0;34m)\u001b[0m\u001b[0;34m\u001b[0m\u001b[0;34m\u001b[0m\u001b[0m\n\u001b[0m",
            "\u001b[0;31mUnboundLocalError\u001b[0m: local variable 'val' referenced before assignment"
          ]
        }
      ]
    },
    {
      "cell_type": "code",
      "metadata": {
        "id": "Vx146XS_M9lM"
      },
      "source": [
        "def askint():\n",
        "      try:\n",
        "          val = int(input(\"please enter an integer:\"))\n",
        "      except:\n",
        "           print(\"looks like you did not enter an integer!\")\n",
        "           val = int(input(\"try again-please enter an integer:\"))\n",
        "      finally:\n",
        "           print(\"finally, I executed!\")\n",
        "      print(val)\n"
      ],
      "execution_count": null,
      "outputs": []
    },
    {
      "cell_type": "code",
      "metadata": {
        "id": "aW0VmZ1kXAgh",
        "outputId": "b9eb178f-74cd-47c8-e194-54194000b690",
        "colab": {
          "base_uri": "https://localhost:8080/"
        }
      },
      "source": [
        "askint()"
      ],
      "execution_count": null,
      "outputs": [
        {
          "output_type": "stream",
          "text": [
            "please enter an integer:123\n",
            "finally, I executed!\n",
            "123\n"
          ],
          "name": "stdout"
        }
      ]
    },
    {
      "cell_type": "code",
      "metadata": {
        "id": "GlQlh7ggXJqz",
        "outputId": "99c6e1df-f03e-4e32-d147-397e2cedc6ba",
        "colab": {
          "base_uri": "https://localhost:8080/"
        }
      },
      "source": [
        "askint()"
      ],
      "execution_count": null,
      "outputs": [
        {
          "output_type": "stream",
          "text": [
            "please enter an integer:str\n",
            "looks like you did not enter an integer!\n",
            "try again-please enter an integer:123\n",
            "finally, I executed!\n",
            "123\n"
          ],
          "name": "stdout"
        }
      ]
    },
    {
      "cell_type": "code",
      "metadata": {
        "id": "HnhqErBeZCgM",
        "outputId": "5b90bdd4-612c-4cbb-a631-dac9a345438d",
        "colab": {
          "base_uri": "https://localhost:8080/"
        }
      },
      "source": [
        "while True:\n",
        "    try:\n",
        "        val = int(input(\"please enter an integer:\"))\n",
        "    except:\n",
        "        print(\"Looks like you did not enter an integer!\")\n",
        "        continue\n",
        "    else:\n",
        "         print(\"yep thats an integer!\")\n",
        "         break\n",
        "    finally:\n",
        "          print(\"Finally, I executed!\")\n",
        "    print(val)          \n"
      ],
      "execution_count": null,
      "outputs": [
        {
          "output_type": "stream",
          "text": [
            "please enter an integer:str\n",
            "Looks like you did not enter an integer!\n",
            "Finally, I executed!\n",
            "please enter an integer:bc\n",
            "Looks like you did not enter an integer!\n",
            "Finally, I executed!\n",
            "please enter an integer:23\n",
            "yep thats an integer!\n",
            "Finally, I executed!\n"
          ],
          "name": "stdout"
        }
      ]
    },
    {
      "cell_type": "code",
      "metadata": {
        "id": "TAUiPhhBazwO",
        "outputId": "ec525394-9ad2-4e30-acda-f350cfec06ed",
        "colab": {
          "base_uri": "https://localhost:8080/"
        }
      },
      "source": [
        "import sqlite3\n",
        "\n",
        "db = sqlite3.connect(\"my_database1.db\")\n",
        "\n",
        "db.execute(\"drop table if exists grades1\")\n",
        "\n",
        "db.execute(\"create table grades1(id int, name text, score int)\")\n",
        "\n",
        "db.execute(\"insert into grades1(id, name, score) values(101, 'john', 99)\")\n",
        "db.execute(\"insert into grades1(id, name, score) values(102,'gary', 90)\")\n",
        "db.execute(\"insert into grades1(id, name, score) values(103,'james', 80)\")\n",
        "db.execute(\"insert into grades1(id, name, score) values(104,'Cathy', 85)\")\n",
        "db.execute(\"insert into grades1(id, name, score) values(105,'kris', 95)\")"
      ],
      "execution_count": 8,
      "outputs": [
        {
          "output_type": "execute_result",
          "data": {
            "text/plain": [
              "<sqlite3.Cursor at 0x7fbbd48011f0>"
            ]
          },
          "metadata": {
            "tags": []
          },
          "execution_count": 8
        }
      ]
    },
    {
      "cell_type": "code",
      "metadata": {
        "id": "8rjJyDafauRU"
      },
      "source": [
        "db.commit()"
      ],
      "execution_count": 9,
      "outputs": []
    },
    {
      "cell_type": "code",
      "metadata": {
        "id": "qBNAj3lpa2HM",
        "outputId": "cd097827-4031-420e-d71a-ac5878ab6907",
        "colab": {
          "base_uri": "https://localhost:8080/"
        }
      },
      "source": [
        "results = db.execute(\"select * from grades1 order by id\")\n",
        "for row in results:\n",
        "  print(row)\n",
        "print(\"_\" * 60)"
      ],
      "execution_count": 10,
      "outputs": [
        {
          "output_type": "stream",
          "text": [
            "(101, 'john', 99)\n",
            "(102, 'gary', 90)\n",
            "(103, 'james', 80)\n",
            "(104, 'Cathy', 85)\n",
            "(105, 'kris', 95)\n",
            "____________________________________________________________\n"
          ],
          "name": "stdout"
        }
      ]
    },
    {
      "cell_type": "code",
      "metadata": {
        "id": "9V2gW8Ukbb6B",
        "outputId": "63ec3e0e-277e-4b67-f7f7-2200550fe220",
        "colab": {
          "base_uri": "https://localhost:8080/"
        }
      },
      "source": [
        "results = db.execute(\"select * from grades1 where name = 'kris' \")\n",
        "for now in results:\n",
        "  print(row)\n",
        "print(\"_\" * 60)"
      ],
      "execution_count": 15,
      "outputs": [
        {
          "output_type": "stream",
          "text": [
            "(105, 'kris', 95)\n",
            "____________________________________________________________\n"
          ],
          "name": "stdout"
        }
      ]
    },
    {
      "cell_type": "code",
      "metadata": {
        "id": "iZLtpbgxccSn",
        "outputId": "6029e0d5-5533-419a-d654-8e7b8b7e7c8d",
        "colab": {
          "base_uri": "https://localhost:8080/"
        }
      },
      "source": [
        "results = db.execute(\"select * from grades1 where score >= 90\")\n",
        "for row in results:\n",
        "  print(row)\n",
        "print(\"_\" * 60)"
      ],
      "execution_count": 16,
      "outputs": [
        {
          "output_type": "stream",
          "text": [
            "(101, 'john', 99)\n",
            "(102, 'gary', 90)\n",
            "(105, 'kris', 95)\n",
            "____________________________________________________________\n"
          ],
          "name": "stdout"
        }
      ]
    },
    {
      "cell_type": "code",
      "metadata": {
        "id": "EEMRlVcWdCRz",
        "outputId": "ee5e30ec-7ccd-418b-85ba-ca8e642816fa",
        "colab": {
          "base_uri": "https://localhost:8080/"
        }
      },
      "source": [
        "results = db.execute(\"select name , score from grades1 order by score desc \")\n",
        "for row in results:\n",
        "    print(row)\n",
        "print(\"_\" * 60)"
      ],
      "execution_count": 20,
      "outputs": [
        {
          "output_type": "stream",
          "text": [
            "('john', 99)\n",
            "('kris', 95)\n",
            "('gary', 90)\n",
            "('Cathy', 85)\n",
            "('james', 80)\n",
            "____________________________________________________________\n"
          ],
          "name": "stdout"
        }
      ]
    },
    {
      "cell_type": "code",
      "metadata": {
        "id": "gnIDEocuebBt",
        "outputId": "99330e0b-b273-4883-b138-8cea321445e6",
        "colab": {
          "base_uri": "https://localhost:8080/"
        }
      },
      "source": [
        "results = db.execute(\"select name, score from grades1 order by score\")\n",
        "for row in results:\n",
        "  print(row)\n",
        "print(\"_\" * 60)"
      ],
      "execution_count": 21,
      "outputs": [
        {
          "output_type": "stream",
          "text": [
            "('james', 80)\n",
            "('Cathy', 85)\n",
            "('gary', 90)\n",
            "('kris', 95)\n",
            "('john', 99)\n",
            "____________________________________________________________\n"
          ],
          "name": "stdout"
        }
      ]
    },
    {
      "cell_type": "code",
      "metadata": {
        "id": "m8kSUP4De82E",
        "outputId": "b68309af-479c-473c-dbf5-ef012f04438c",
        "colab": {
          "base_uri": "https://localhost:8080/"
        }
      },
      "source": [
        "results = db.execute(\"select name, score from grades1 order by score\")\n",
        "for row in results:\n",
        "  print(row)"
      ],
      "execution_count": 22,
      "outputs": [
        {
          "output_type": "stream",
          "text": [
            "('james', 80)\n",
            "('Cathy', 85)\n",
            "('gary', 90)\n",
            "('kris', 95)\n",
            "('john', 99)\n"
          ],
          "name": "stdout"
        }
      ]
    },
    {
      "cell_type": "code",
      "metadata": {
        "id": "QvLpAy5EfZH7"
      },
      "source": [
        ""
      ],
      "execution_count": null,
      "outputs": []
    }
  ]
}