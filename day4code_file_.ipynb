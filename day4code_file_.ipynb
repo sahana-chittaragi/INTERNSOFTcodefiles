{
  "nbformat": 4,
  "nbformat_minor": 0,
  "metadata": {
    "colab": {
      "name": "day4code.file..",
      "provenance": [],
      "collapsed_sections": []
    },
    "kernelspec": {
      "name": "python3",
      "display_name": "Python 3"
    }
  },
  "cells": [
    {
      "cell_type": "markdown",
      "metadata": {
        "id": "580KO7adVCPM"
      },
      "source": [
        ""
      ]
    },
    {
      "cell_type": "code",
      "metadata": {
        "id": "8m3P63GNQzBX",
        "outputId": "61241bab-b675-4a5f-ae2f-e72909c21005",
        "colab": {
          "base_uri": "https://localhost:8080/"
        }
      },
      "source": [
        "class person:\n",
        "    def __init__(self , name, surname, year_of_birth):\n",
        "        self.name = name\n",
        "        self.surname = surname\n",
        "        self.year_of_birth = year_of_birth\n",
        "\n",
        "    def age(self,current_year):\n",
        "        return current_year - self.year_of_birth\n",
        "\n",
        "    def __str__(self):\n",
        "        return \"%s %s was born in %d.\" %(self.name,self.surname,self.year_of_birth) \n",
        "\n",
        "alec =  person(\"Alec\", \"baldwin\", 1958)\n",
        "print(alec)\n",
        "print(alec.age(2019))"
      ],
      "execution_count": null,
      "outputs": [
        {
          "output_type": "stream",
          "text": [
            "Alec baldwin was born in 1958.\n",
            "61\n"
          ],
          "name": "stdout"
        }
      ]
    },
    {
      "cell_type": "code",
      "metadata": {
        "id": "4NNXDHo4IipQ",
        "outputId": "2a07ade0-f724-4318-ca60-77997c257e53",
        "colab": {
          "base_uri": "https://localhost:8080/"
        }
      },
      "source": [
        "def summer(a,b):\n",
        "  return a + b\n",
        "\n",
        "\n",
        "print(summer(1, 1))\n",
        "print(summer([\"a\",\"b\",\"c\"],[\"d\",\"e\"]))\n",
        "print(summer(\"abra\",\"cadabra\"))"
      ],
      "execution_count": null,
      "outputs": [
        {
          "output_type": "stream",
          "text": [
            "2\n",
            "['a', 'b', 'c', 'd', 'e']\n",
            "abracadabra\n"
          ],
          "name": "stdout"
        }
      ]
    },
    {
      "cell_type": "code",
      "metadata": {
        "id": "4GUHdE_qJVKT",
        "outputId": "4844d8aa-f4ec-4047-eb38-aee53c1e8c27",
        "colab": {
          "base_uri": "https://localhost:8080/"
        }
      },
      "source": [
        "%%writefile superman.txt\n",
        "hello, this is a quick superman test file"
      ],
      "execution_count": null,
      "outputs": [
        {
          "output_type": "stream",
          "text": [
            "Writing superman.txt\n"
          ],
          "name": "stdout"
        }
      ]
    },
    {
      "cell_type": "code",
      "metadata": {
        "id": "OH8BHA16Lx3K"
      },
      "source": [
        "my_file = open('superman.txt')"
      ],
      "execution_count": null,
      "outputs": []
    },
    {
      "cell_type": "code",
      "metadata": {
        "id": "spsZ4HHdL_5L",
        "outputId": "d3be8acd-2c14-4f05-a145-53abffe4fcf7",
        "colab": {
          "base_uri": "https://localhost:8080/",
          "height": 35
        }
      },
      "source": [
        "my_file.read()\n"
      ],
      "execution_count": null,
      "outputs": [
        {
          "output_type": "execute_result",
          "data": {
            "application/vnd.google.colaboratory.intrinsic+json": {
              "type": "string"
            },
            "text/plain": [
              "'hello, this is a quick superman test file'"
            ]
          },
          "metadata": {
            "tags": []
          },
          "execution_count": 5
        }
      ]
    },
    {
      "cell_type": "code",
      "metadata": {
        "id": "K2AONc3RMLm4",
        "outputId": "6fbbbf0e-ebee-48ee-92e3-3a6ffc37ad36",
        "colab": {
          "base_uri": "https://localhost:8080/",
          "height": 35
        }
      },
      "source": [
        "my_file.read()"
      ],
      "execution_count": null,
      "outputs": [
        {
          "output_type": "execute_result",
          "data": {
            "application/vnd.google.colaboratory.intrinsic+json": {
              "type": "string"
            },
            "text/plain": [
              "''"
            ]
          },
          "metadata": {
            "tags": []
          },
          "execution_count": 6
        }
      ]
    },
    {
      "cell_type": "code",
      "metadata": {
        "id": "Dk49kig-MS0N",
        "outputId": "571903c2-816e-449e-c987-06366ca9843c",
        "colab": {
          "base_uri": "https://localhost:8080/"
        }
      },
      "source": [
        "my_file.seek(0)"
      ],
      "execution_count": null,
      "outputs": [
        {
          "output_type": "execute_result",
          "data": {
            "text/plain": [
              "0"
            ]
          },
          "metadata": {
            "tags": []
          },
          "execution_count": 7
        }
      ]
    },
    {
      "cell_type": "code",
      "metadata": {
        "id": "4AHY_EJHMbCT",
        "outputId": "9e344b12-b16d-42e1-ee8c-1cb73350a600",
        "colab": {
          "base_uri": "https://localhost:8080/"
        }
      },
      "source": [
        "my_file.readlines()"
      ],
      "execution_count": null,
      "outputs": [
        {
          "output_type": "execute_result",
          "data": {
            "text/plain": [
              "['hello, this is a quick superman test file']"
            ]
          },
          "metadata": {
            "tags": []
          },
          "execution_count": 8
        }
      ]
    },
    {
      "cell_type": "code",
      "metadata": {
        "id": "hJJm-BNFMndt"
      },
      "source": [
        "my_file = open('superman.txt','w+')"
      ],
      "execution_count": null,
      "outputs": []
    },
    {
      "cell_type": "code",
      "metadata": {
        "id": "ks5r9x8xM8WV",
        "outputId": "955e5a46-3345-4faa-b702-253eea340c45",
        "colab": {
          "base_uri": "https://localhost:8080/"
        }
      },
      "source": [
        "my_file.write('this is a new line')"
      ],
      "execution_count": null,
      "outputs": [
        {
          "output_type": "execute_result",
          "data": {
            "text/plain": [
              "18"
            ]
          },
          "metadata": {
            "tags": []
          },
          "execution_count": 10
        }
      ]
    },
    {
      "cell_type": "code",
      "metadata": {
        "id": "0iDr7zBQNFlb",
        "outputId": "94330c34-96d1-4ba0-8472-420464caacf6",
        "colab": {
          "base_uri": "https://localhost:8080/"
        }
      },
      "source": [
        "my_file.seek(0)"
      ],
      "execution_count": null,
      "outputs": [
        {
          "output_type": "execute_result",
          "data": {
            "text/plain": [
              "0"
            ]
          },
          "metadata": {
            "tags": []
          },
          "execution_count": 11
        }
      ]
    },
    {
      "cell_type": "code",
      "metadata": {
        "id": "heLKsM4cNM-5",
        "outputId": "5e942ed7-91c3-4c4e-e3ee-caddad0b112b",
        "colab": {
          "base_uri": "https://localhost:8080/",
          "height": 35
        }
      },
      "source": [
        "my_file.read()"
      ],
      "execution_count": null,
      "outputs": [
        {
          "output_type": "execute_result",
          "data": {
            "application/vnd.google.colaboratory.intrinsic+json": {
              "type": "string"
            },
            "text/plain": [
              "'this is a new line'"
            ]
          },
          "metadata": {
            "tags": []
          },
          "execution_count": 12
        }
      ]
    },
    {
      "cell_type": "code",
      "metadata": {
        "id": "AkJnaeNQNV1B",
        "outputId": "5e5e42b0-bc2c-4c3b-86c8-09cd8b29f764",
        "colab": {
          "base_uri": "https://localhost:8080/"
        }
      },
      "source": [
        "%%writefile test.txt\n",
        "first line\n",
        "second line"
      ],
      "execution_count": null,
      "outputs": [
        {
          "output_type": "stream",
          "text": [
            "Writing test.txt\n"
          ],
          "name": "stdout"
        }
      ]
    },
    {
      "cell_type": "code",
      "metadata": {
        "id": "dmsgY86BNlHq",
        "outputId": "8ae85205-ad31-4a06-9abf-08faa2dcdd9e",
        "colab": {
          "base_uri": "https://localhost:8080/"
        }
      },
      "source": [
        "for line in open('test.txt'):\n",
        "  print(line)"
      ],
      "execution_count": null,
      "outputs": [
        {
          "output_type": "stream",
          "text": [
            "first line\n",
            "\n",
            "second line\n"
          ],
          "name": "stdout"
        }
      ]
    },
    {
      "cell_type": "code",
      "metadata": {
        "id": "y0WEo2HDN8pt",
        "outputId": "c4dbdba6-72a0-4206-b09b-284be0c96f43",
        "colab": {
          "base_uri": "https://localhost:8080/"
        }
      },
      "source": [
        "for asdf in open('test.txt'):\n",
        "  print(asdf)"
      ],
      "execution_count": null,
      "outputs": [
        {
          "output_type": "stream",
          "text": [
            "first line\n",
            "\n",
            "second line\n"
          ],
          "name": "stdout"
        }
      ]
    },
    {
      "cell_type": "code",
      "metadata": {
        "id": "NSM040kXOYkJ",
        "outputId": "2b127257-8758-41f6-9698-7b53d9f2685c",
        "colab": {
          "base_uri": "https://localhost:8080/",
          "height": 35
        }
      },
      "source": [
        "from io import StringIO\n",
        "message = 'this is just a normal string.'\n",
        "f = StringIO(message)\n",
        "f.read()"
      ],
      "execution_count": null,
      "outputs": [
        {
          "output_type": "execute_result",
          "data": {
            "application/vnd.google.colaboratory.intrinsic+json": {
              "type": "string"
            },
            "text/plain": [
              "'this is just a normal string.'"
            ]
          },
          "metadata": {
            "tags": []
          },
          "execution_count": 25
        }
      ]
    },
    {
      "cell_type": "code",
      "metadata": {
        "id": "fYmWavTcP-vA",
        "outputId": "f383774c-3ea5-46a4-ae66-b86f031ebee9",
        "colab": {
          "base_uri": "https://localhost:8080/"
        }
      },
      "source": [
        "f.write('second line written to file like object')"
      ],
      "execution_count": null,
      "outputs": [
        {
          "output_type": "execute_result",
          "data": {
            "text/plain": [
              "39"
            ]
          },
          "metadata": {
            "tags": []
          },
          "execution_count": 27
        }
      ]
    },
    {
      "cell_type": "code",
      "metadata": {
        "id": "bmJ7wR6xQVCa",
        "outputId": "6897b7a1-745b-4346-9601-216ffd2b44c2",
        "colab": {
          "base_uri": "https://localhost:8080/"
        }
      },
      "source": [
        "f.seek(0)"
      ],
      "execution_count": null,
      "outputs": [
        {
          "output_type": "execute_result",
          "data": {
            "text/plain": [
              "0"
            ]
          },
          "metadata": {
            "tags": []
          },
          "execution_count": 29
        }
      ]
    },
    {
      "cell_type": "code",
      "metadata": {
        "id": "VewJrgeFQc7D",
        "outputId": "099dd60a-73e8-4b9b-acd1-60ed7b496a5c",
        "colab": {
          "base_uri": "https://localhost:8080/",
          "height": 35
        }
      },
      "source": [
        "f.read()"
      ],
      "execution_count": null,
      "outputs": [
        {
          "output_type": "execute_result",
          "data": {
            "application/vnd.google.colaboratory.intrinsic+json": {
              "type": "string"
            },
            "text/plain": [
              "'this is just a normal string.second line written to file like object'"
            ]
          },
          "metadata": {
            "tags": []
          },
          "execution_count": 30
        }
      ]
    }
  ]
}